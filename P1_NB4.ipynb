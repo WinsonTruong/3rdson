{
 "cells": [
  {
   "cell_type": "markdown",
   "metadata": {},
   "source": [
    "# NB4\n",
    "Now that we finished the returning-to-work piece of the project, let's look at how having more kids affects family income. Sorry in advance, Mom and Dad!"
   ]
  },
  {
   "cell_type": "code",
   "execution_count": 1,
   "metadata": {},
   "outputs": [],
   "source": [
    "# Set Up\n",
    "import pandas as pd\n",
    "import numpy as np\n",
    "\n",
    "# These lines make warnings look nicer\n",
    "import warnings\n",
    "warnings.simplefilter('ignore', FutureWarning)\n",
    "\n",
    "# Regression\n",
    "import statsmodels.api as sm\n",
    "from sklearn.linear_model import LinearRegression\n",
    "from IPython.core.display import HTML\n",
    "from statsmodels.sandbox.regression.gmm import IV2SLS\n",
    "\n",
    "# Graphing\n",
    "import matplotlib\n",
    "import matplotlib.pyplot as plt\n",
    "%matplotlib inline\n",
    "plt.style.use('fivethirtyeight')\n",
    "plt.rcParams['figure.figsize'] = (10,10)\n",
    "import seaborn as sns"
   ]
  },
  {
   "cell_type": "markdown",
   "metadata": {},
   "source": [
    "# Specialty Imports\n",
    "\n",
    "For the IV regression I'm going to be using statsmodels implementation of IV/2-Stage Least Squares. Documentation can be found here https://www.statsmodels.org/stable/generated/statsmodels.sandbox.regression.gmm.IV2SLS.html\n",
    "\n",
    "# Loading Data"
   ]
  },
  {
   "cell_type": "code",
   "execution_count": 2,
   "metadata": {},
   "outputs": [
    {
     "data": {
      "text/html": [
       "<div>\n",
       "<style scoped>\n",
       "    .dataframe tbody tr th:only-of-type {\n",
       "        vertical-align: middle;\n",
       "    }\n",
       "\n",
       "    .dataframe tbody tr th {\n",
       "        vertical-align: top;\n",
       "    }\n",
       "\n",
       "    .dataframe thead th {\n",
       "        text-align: right;\n",
       "    }\n",
       "</style>\n",
       "<table border=\"1\" class=\"dataframe\">\n",
       "  <thead>\n",
       "    <tr style=\"text-align: right;\">\n",
       "      <th></th>\n",
       "      <th>noHSm</th>\n",
       "      <th>noHSd</th>\n",
       "      <th>agem_squared</th>\n",
       "      <th>agefstm_squared</th>\n",
       "      <th>aged_squared</th>\n",
       "      <th>agefstd_squared</th>\n",
       "      <th>educm</th>\n",
       "      <th>educd</th>\n",
       "      <th>agem</th>\n",
       "      <th>aged</th>\n",
       "      <th>agefstm</th>\n",
       "      <th>agefstd</th>\n",
       "      <th>blackm</th>\n",
       "      <th>hispm</th>\n",
       "      <th>othracem</th>\n",
       "    </tr>\n",
       "  </thead>\n",
       "  <tbody>\n",
       "    <tr>\n",
       "      <th>0</th>\n",
       "      <td>0</td>\n",
       "      <td>0</td>\n",
       "      <td>729</td>\n",
       "      <td>324</td>\n",
       "      <td>1225</td>\n",
       "      <td>676</td>\n",
       "      <td>12</td>\n",
       "      <td>12</td>\n",
       "      <td>27</td>\n",
       "      <td>35</td>\n",
       "      <td>18</td>\n",
       "      <td>26</td>\n",
       "      <td>0</td>\n",
       "      <td>0</td>\n",
       "      <td>0</td>\n",
       "    </tr>\n",
       "    <tr>\n",
       "      <th>1</th>\n",
       "      <td>1</td>\n",
       "      <td>1</td>\n",
       "      <td>900</td>\n",
       "      <td>324</td>\n",
       "      <td>784</td>\n",
       "      <td>289</td>\n",
       "      <td>7</td>\n",
       "      <td>9</td>\n",
       "      <td>30</td>\n",
       "      <td>28</td>\n",
       "      <td>18</td>\n",
       "      <td>17</td>\n",
       "      <td>0</td>\n",
       "      <td>0</td>\n",
       "      <td>0</td>\n",
       "    </tr>\n",
       "    <tr>\n",
       "      <th>2</th>\n",
       "      <td>0</td>\n",
       "      <td>0</td>\n",
       "      <td>729</td>\n",
       "      <td>441</td>\n",
       "      <td>900</td>\n",
       "      <td>576</td>\n",
       "      <td>12</td>\n",
       "      <td>13</td>\n",
       "      <td>27</td>\n",
       "      <td>30</td>\n",
       "      <td>21</td>\n",
       "      <td>24</td>\n",
       "      <td>0</td>\n",
       "      <td>0</td>\n",
       "      <td>0</td>\n",
       "    </tr>\n",
       "    <tr>\n",
       "      <th>3</th>\n",
       "      <td>0</td>\n",
       "      <td>0</td>\n",
       "      <td>1225</td>\n",
       "      <td>729</td>\n",
       "      <td>1296</td>\n",
       "      <td>841</td>\n",
       "      <td>14</td>\n",
       "      <td>19</td>\n",
       "      <td>35</td>\n",
       "      <td>36</td>\n",
       "      <td>27</td>\n",
       "      <td>29</td>\n",
       "      <td>1</td>\n",
       "      <td>0</td>\n",
       "      <td>0</td>\n",
       "    </tr>\n",
       "    <tr>\n",
       "      <th>4</th>\n",
       "      <td>0</td>\n",
       "      <td>0</td>\n",
       "      <td>900</td>\n",
       "      <td>484</td>\n",
       "      <td>1156</td>\n",
       "      <td>676</td>\n",
       "      <td>14</td>\n",
       "      <td>18</td>\n",
       "      <td>30</td>\n",
       "      <td>34</td>\n",
       "      <td>22</td>\n",
       "      <td>26</td>\n",
       "      <td>0</td>\n",
       "      <td>0</td>\n",
       "      <td>0</td>\n",
       "    </tr>\n",
       "  </tbody>\n",
       "</table>\n",
       "</div>"
      ],
      "text/plain": [
       "   noHSm  noHSd  agem_squared  agefstm_squared  aged_squared  agefstd_squared  \\\n",
       "0      0      0           729              324          1225              676   \n",
       "1      1      1           900              324           784              289   \n",
       "2      0      0           729              441           900              576   \n",
       "3      0      0          1225              729          1296              841   \n",
       "4      0      0           900              484          1156              676   \n",
       "\n",
       "   educm  educd  agem  aged  agefstm  agefstd  blackm  hispm  othracem  \n",
       "0     12     12    27    35       18       26       0      0         0  \n",
       "1      7      9    30    28       18       17       0      0         0  \n",
       "2     12     13    27    30       21       24       0      0         0  \n",
       "3     14     19    35    36       27       29       1      0         0  \n",
       "4     14     18    30    34       22       26       0      0         0  "
      ]
     },
     "execution_count": 2,
     "metadata": {},
     "output_type": "execute_result"
    }
   ],
   "source": [
    "sample = pd.read_csv('sample.csv')\n",
    "\n",
    "\n",
    "sample3 = pd.DataFrame()\n",
    "\n",
    "sample3['noHSm'] = [1 if i < 12 else 0 for i in sample['educm']]\n",
    "sample3['noHSd'] = [1 if i < 12 else 0 for i in sample['educd']]\n",
    "\n",
    "sample3['agem_squared'] = sample['agem'] ** 2\n",
    "sample3['agefstm_squared'] = sample['agefstm'] ** 2\n",
    "\n",
    "sample3['aged_squared'] = sample['aged'] ** 2\n",
    "sample3['agefstd_squared'] = sample['agefstd'] ** 2\n",
    "\n",
    "controls = pd.concat([sample3, sample[['educm', 'educd', 'agem', 'aged', 'agefstm', 'agefstd',\n",
    "                                      'blackm', 'hispm', 'othracem']]], axis = 1)\n",
    "\n",
    "controls.head()\n"
   ]
  },
  {
   "cell_type": "markdown",
   "metadata": {},
   "source": [
    "Let's initialize the summary table that will describes the effect of morekids on 3 dependent variables: \n",
    "* a mother's earnings, _earningsm_\n",
    "* a father's earnings, _earningd_\n",
    "* family earnings, _famearns_\n",
    "\n"
   ]
  },
  {
   "cell_type": "code",
   "execution_count": 4,
   "metadata": {},
   "outputs": [
    {
     "data": {
      "text/html": [
       "<div>\n",
       "<style scoped>\n",
       "    .dataframe tbody tr th:only-of-type {\n",
       "        vertical-align: middle;\n",
       "    }\n",
       "\n",
       "    .dataframe tbody tr th {\n",
       "        vertical-align: top;\n",
       "    }\n",
       "\n",
       "    .dataframe thead th {\n",
       "        text-align: right;\n",
       "    }\n",
       "</style>\n",
       "<table border=\"1\" class=\"dataframe\">\n",
       "  <thead>\n",
       "    <tr style=\"text-align: right;\">\n",
       "      <th></th>\n",
       "      <th>OLS</th>\n",
       "      <th>OLS + Controls</th>\n",
       "      <th>IV</th>\n",
       "      <th>IV + Controls</th>\n",
       "    </tr>\n",
       "  </thead>\n",
       "  <tbody>\n",
       "    <tr>\n",
       "      <th>earningsm</th>\n",
       "      <td>NaN</td>\n",
       "      <td>NaN</td>\n",
       "      <td>NaN</td>\n",
       "      <td>NaN</td>\n",
       "    </tr>\n",
       "    <tr>\n",
       "      <th>earningsd</th>\n",
       "      <td>NaN</td>\n",
       "      <td>NaN</td>\n",
       "      <td>NaN</td>\n",
       "      <td>NaN</td>\n",
       "    </tr>\n",
       "    <tr>\n",
       "      <th>famearn</th>\n",
       "      <td>NaN</td>\n",
       "      <td>NaN</td>\n",
       "      <td>NaN</td>\n",
       "      <td>NaN</td>\n",
       "    </tr>\n",
       "  </tbody>\n",
       "</table>\n",
       "</div>"
      ],
      "text/plain": [
       "           OLS OLS + Controls   IV IV + Controls\n",
       "earningsm  NaN            NaN  NaN           NaN\n",
       "earningsd  NaN            NaN  NaN           NaN\n",
       "famearn    NaN            NaN  NaN           NaN"
      ]
     },
     "execution_count": 4,
     "metadata": {},
     "output_type": "execute_result"
    }
   ],
   "source": [
    "morekids_effect = pd.DataFrame(index = [\"earningsm\", \"earningsd\", \"famearn\"],\n",
    "                             columns = [\"OLS\", \"OLS + Controls\", \"IV\", \"IV + Controls\"])\n",
    "morekids_effect"
   ]
  },
  {
   "cell_type": "markdown",
   "metadata": {},
   "source": [
    "Starting first with the first two columns, we will define a function that saves us time and effort:"
   ]
  },
  {
   "cell_type": "code",
   "execution_count": 5,
   "metadata": {},
   "outputs": [],
   "source": [
    "def linear_probability_model(features, outcome, intercept = True):\n",
    "    \"\"\"Returns the coeffecient of morekids on the outcome variable by running an OLS.\"\"\"\n",
    "    \n",
    "    model = sm.OLS(outcome ,sm.add_constant(features))\n",
    "    model = model.fit()\n",
    "    \n",
    "    return model.params['morekids']"
   ]
  },
  {
   "cell_type": "markdown",
   "metadata": {},
   "source": [
    "Now running that function 6 times"
   ]
  },
  {
   "cell_type": "code",
   "execution_count": 6,
   "metadata": {},
   "outputs": [
    {
     "data": {
      "text/html": [
       "<div>\n",
       "<style scoped>\n",
       "    .dataframe tbody tr th:only-of-type {\n",
       "        vertical-align: middle;\n",
       "    }\n",
       "\n",
       "    .dataframe tbody tr th {\n",
       "        vertical-align: top;\n",
       "    }\n",
       "\n",
       "    .dataframe thead th {\n",
       "        text-align: right;\n",
       "    }\n",
       "</style>\n",
       "<table border=\"1\" class=\"dataframe\">\n",
       "  <thead>\n",
       "    <tr style=\"text-align: right;\">\n",
       "      <th></th>\n",
       "      <th>OLS</th>\n",
       "      <th>OLS + Controls</th>\n",
       "      <th>IV</th>\n",
       "      <th>IV + Controls</th>\n",
       "    </tr>\n",
       "  </thead>\n",
       "  <tbody>\n",
       "    <tr>\n",
       "      <th>earningsm</th>\n",
       "      <td>-3662.02</td>\n",
       "      <td>-4882.46</td>\n",
       "      <td>NaN</td>\n",
       "      <td>NaN</td>\n",
       "    </tr>\n",
       "    <tr>\n",
       "      <th>earningsd</th>\n",
       "      <td>-1779.14</td>\n",
       "      <td>-74.1929</td>\n",
       "      <td>NaN</td>\n",
       "      <td>NaN</td>\n",
       "    </tr>\n",
       "    <tr>\n",
       "      <th>famearn</th>\n",
       "      <td>-5441.16</td>\n",
       "      <td>-4956.65</td>\n",
       "      <td>NaN</td>\n",
       "      <td>NaN</td>\n",
       "    </tr>\n",
       "  </tbody>\n",
       "</table>\n",
       "</div>"
      ],
      "text/plain": [
       "               OLS OLS + Controls   IV IV + Controls\n",
       "earningsm -3662.02       -4882.46  NaN           NaN\n",
       "earningsd -1779.14       -74.1929  NaN           NaN\n",
       "famearn   -5441.16       -4956.65  NaN           NaN"
      ]
     },
     "execution_count": 6,
     "metadata": {},
     "output_type": "execute_result"
    }
   ],
   "source": [
    "# Column 1\n",
    "morekids_effect.loc['earningsm', 'OLS'] = linear_probability_model(sample['morekids'], sample['earningsm'])\n",
    "morekids_effect.loc['earningsd', 'OLS'] = linear_probability_model(sample['morekids'], sample['earningsd'])\n",
    "morekids_effect.loc['famearn', 'OLS'] = linear_probability_model(sample['morekids'], sample['famearn'])\n",
    "\n",
    "# The feature matrix for the second model that has controls in it\n",
    "features_controls = pd.concat([sample['morekids'], controls],axis = 1)\n",
    "\n",
    "# Column 2\n",
    "morekids_effect.loc['earningsm', 'OLS + Controls'] = linear_probability_model(features_controls,sample['earningsm'])\n",
    "morekids_effect.loc['earningsd', 'OLS + Controls'] = linear_probability_model(features_controls,sample['earningsd'])\n",
    "morekids_effect.loc['famearn', 'OLS + Controls'] = linear_probability_model(features_controls,sample['famearn'])\n",
    "\n",
    "\n",
    "morekids_effect"
   ]
  },
  {
   "cell_type": "markdown",
   "metadata": {},
   "source": [
    "Overall it seem like having more kids decreases family earnings, but the impact seems to hit the mothers much harder than the fathers. Let's move on to the IV Regression.\n",
    "\n",
    "# IV \n",
    "First and foremost, a helper function."
   ]
  },
  {
   "cell_type": "code",
   "execution_count": 7,
   "metadata": {},
   "outputs": [],
   "source": [
    "def IV_2SLS_show_all(dependent, exogenous, instrument):\n",
    "    \"\"\"\n",
    "    Runs the first stag and reduced form models via OLS,\n",
    "    then runs the 2SLS/IV regression via statsmodels.\n",
    "    \n",
    "    Input:\n",
    "        - dependent: a (nx1) outcome variable\n",
    "        - exogenous: a (nx1) exogenous variable\n",
    "        - instrument: a (nx1) instrument to be used for the exogenous variable\n",
    "    Output:\n",
    "        prints 3 summary tables of the regression\n",
    "        1 DataFrame featuring\n",
    "            - pi: the coeffecient of the first stage\n",
    "            - delta: the coeffecient of the reduced form\n",
    "            - ratio: delta/pi\n",
    "            - iv2sls: coeffecient of the instrument in IV regression\n",
    "    \"\"\"\n",
    "\n",
    "    iv = IV2SLS(dependent, sm.add_constant(exogenous),  sm.add_constant(instrument)).fit()\n",
    "    return iv.params['morekids']"
   ]
  },
  {
   "cell_type": "code",
   "execution_count": 8,
   "metadata": {},
   "outputs": [
    {
     "data": {
      "text/html": [
       "<div>\n",
       "<style scoped>\n",
       "    .dataframe tbody tr th:only-of-type {\n",
       "        vertical-align: middle;\n",
       "    }\n",
       "\n",
       "    .dataframe tbody tr th {\n",
       "        vertical-align: top;\n",
       "    }\n",
       "\n",
       "    .dataframe thead th {\n",
       "        text-align: right;\n",
       "    }\n",
       "</style>\n",
       "<table border=\"1\" class=\"dataframe\">\n",
       "  <thead>\n",
       "    <tr style=\"text-align: right;\">\n",
       "      <th></th>\n",
       "      <th>OLS</th>\n",
       "      <th>OLS + Controls</th>\n",
       "      <th>IV</th>\n",
       "      <th>IV + Controls</th>\n",
       "    </tr>\n",
       "  </thead>\n",
       "  <tbody>\n",
       "    <tr>\n",
       "      <th>earningsm</th>\n",
       "      <td>-3662.02</td>\n",
       "      <td>-4882.46</td>\n",
       "      <td>-3654.25</td>\n",
       "      <td>-3097.66</td>\n",
       "    </tr>\n",
       "    <tr>\n",
       "      <th>earningsd</th>\n",
       "      <td>-1779.14</td>\n",
       "      <td>-74.1929</td>\n",
       "      <td>-3155.84</td>\n",
       "      <td>-3596.78</td>\n",
       "    </tr>\n",
       "    <tr>\n",
       "      <th>famearn</th>\n",
       "      <td>-5441.16</td>\n",
       "      <td>-4956.65</td>\n",
       "      <td>-6810.09</td>\n",
       "      <td>-6694.44</td>\n",
       "    </tr>\n",
       "  </tbody>\n",
       "</table>\n",
       "</div>"
      ],
      "text/plain": [
       "               OLS OLS + Controls       IV IV + Controls\n",
       "earningsm -3662.02       -4882.46 -3654.25      -3097.66\n",
       "earningsd -1779.14       -74.1929 -3155.84      -3596.78\n",
       "famearn   -5441.16       -4956.65 -6810.09      -6694.44"
      ]
     },
     "execution_count": 8,
     "metadata": {},
     "output_type": "execute_result"
    }
   ],
   "source": [
    "# Column 3    \n",
    "morekids_effect.loc['earningsm','IV']= IV_2SLS_show_all(dependent = sample[['earningsm']], \n",
    "                                                        exogenous = sample[['morekids']], \n",
    "                                                        instrument = sample[['samesex']])\n",
    "\n",
    "morekids_effect.loc['earningsd','IV']= IV_2SLS_show_all(dependent = sample[['earningsd']], \n",
    "                                                        exogenous = sample[['morekids']], \n",
    "                                                        instrument = sample[['samesex']])\n",
    "\n",
    "morekids_effect.loc['famearn','IV']= IV_2SLS_show_all(dependent = sample[['famearn']], \n",
    "                                                        exogenous = sample[['morekids']], \n",
    "                                                        instrument = sample[['samesex']])\n",
    "\n",
    "\n",
    "# The feature matrix for the fourth model that has controls in it\n",
    "instrument_controls = pd.concat([sample['samesex'], controls],axis = 1)\n",
    "\n",
    "# Column 4 \n",
    "morekids_effect.loc['earningsm','IV + Controls']= IV_2SLS_show_all(dependent = sample[['earningsm']], \n",
    "                                                        exogenous = features_controls, \n",
    "                                                        instrument = instrument_controls)\n",
    "\n",
    "morekids_effect.loc['earningsd','IV + Controls']= IV_2SLS_show_all(dependent = sample[['earningsd']], \n",
    "                                                        exogenous = features_controls, \n",
    "                                                        instrument = instrument_controls)\n",
    "\n",
    "morekids_effect.loc['famearn','IV + Controls']= IV_2SLS_show_all(dependent = sample[['famearn']], \n",
    "                                                        exogenous = features_controls, \n",
    "                                                        instrument = instrument_controls)\n",
    "\n",
    "\n",
    "\n",
    "morekids_effect"
   ]
  },
  {
   "cell_type": "markdown",
   "metadata": {},
   "source": [
    "Observation 1: $\\beta_{earningsm}^{IV + Control} > \\beta_{earningsm}^{OLS + Control}$\n",
    "One explanation for why the IV regression predicts that having morekids will be less impactful on your earnings is because your kids being the same sex is determined by random assignment and therefore could be considered an uncorrelated variable with the error term. The OLS model suffers from factors that are still most likely uncontroled for.\n",
    "\n",
    "Observation 2:  $\\beta_{earningsm}^{IV + Control} < \\beta_{earningsd}^{OLS + Control}$\n",
    "\n",
    "Because child bearing is a responsibility imposed on women, it makes sense that father's do not suffer wage losses as large relative to their female counterparts. Also, it is culturally seen in the US (as this is where the data is taken from) that men are more often designated to be bread earners while women are more often the home-maker."
   ]
  },
  {
   "cell_type": "markdown",
   "metadata": {},
   "source": [
    "Let's show some results from the fact that $famearn = earningsd + earningsm$\n",
    "\n",
    "1. The coeffcients follow the same linear relationship"
   ]
  },
  {
   "cell_type": "code",
   "execution_count": 6,
   "metadata": {},
   "outputs": [
    {
     "data": {
      "text/plain": [
       "-5441.158425694789"
      ]
     },
     "metadata": {},
     "output_type": "display_data"
    },
    {
     "data": {
      "text/plain": [
       "-5441.1584256947535"
      ]
     },
     "metadata": {},
     "output_type": "display_data"
    }
   ],
   "source": [
    "model_1 = sm.OLS(sample[['earningsm']] ,sm.add_constant(sample['morekids']))\n",
    "model_1 = model_1.fit()\n",
    "\n",
    "model_2 = sm.OLS(sample[['earningsd']] ,sm.add_constant(sample['morekids']))\n",
    "model_2 = model_2.fit()\n",
    "\n",
    "model_3 = sm.OLS(sample[['famearn']] ,sm.add_constant(sample['morekids']))\n",
    "model_3 = model_3.fit()\n",
    "\n",
    "display(model_3.params[1],model_1.params[1] + model_2.params[1])"
   ]
  },
  {
   "cell_type": "markdown",
   "metadata": {},
   "source": [
    "2. With controls added, the same is true."
   ]
  },
  {
   "cell_type": "code",
   "execution_count": 7,
   "metadata": {},
   "outputs": [
    {
     "data": {
      "text/plain": [
       "-4956.651070957504"
      ]
     },
     "metadata": {},
     "output_type": "display_data"
    },
    {
     "data": {
      "text/plain": [
       "-4956.651070957514"
      ]
     },
     "metadata": {},
     "output_type": "display_data"
    }
   ],
   "source": [
    "model_1c = sm.OLS(sample[['earningsm']] ,sm.add_constant(features_controls))\n",
    "model_1c = model_1c.fit()\n",
    "\n",
    "model_2c = sm.OLS(sample[['earningsd']] ,sm.add_constant(features_controls))\n",
    "model_2c = model_2c.fit()\n",
    "\n",
    "model_3c = sm.OLS(sample[['famearn']] ,sm.add_constant(features_controls))\n",
    "model_3c = model_3c.fit()\n",
    "\n",
    "display(model_3c.params[\"morekids\"],model_1c.params[\"morekids\"] + model_2c.params[\"morekids\"])"
   ]
  },
  {
   "cell_type": "markdown",
   "metadata": {},
   "source": [
    "3. With this linear relationship in the betas, we can look at the effect of morekids and determine the % contribution given from both mother and father"
   ]
  },
  {
   "cell_type": "code",
   "execution_count": 8,
   "metadata": {},
   "outputs": [
    {
     "data": {
      "text/plain": [
       "98.50316551421108"
      ]
     },
     "execution_count": 8,
     "metadata": {},
     "output_type": "execute_result"
    }
   ],
   "source": [
    "#Mothers\n",
    "(morekids_effect[\"OLS + Controls\"][0]/ morekids_effect[\"OLS + Controls\"][2]) * 100"
   ]
  },
  {
   "cell_type": "code",
   "execution_count": 9,
   "metadata": {},
   "outputs": [
    {
     "data": {
      "text/plain": [
       "1.4968344857891172"
      ]
     },
     "execution_count": 9,
     "metadata": {},
     "output_type": "execute_result"
    }
   ],
   "source": [
    "#Fathers\n",
    "(morekids_effect[\"OLS + Controls\"][1]/ morekids_effect[\"OLS + Controls\"][2]) * 100"
   ]
  },
  {
   "cell_type": "markdown",
   "metadata": {},
   "source": [
    "### Lets now do the same thing with IV \n",
    "\n",
    "4. No controls"
   ]
  },
  {
   "cell_type": "code",
   "execution_count": 10,
   "metadata": {},
   "outputs": [
    {
     "data": {
      "text/plain": [
       "-6810.08841136237"
      ]
     },
     "metadata": {},
     "output_type": "display_data"
    },
    {
     "data": {
      "text/plain": [
       "-6810.088415944501"
      ]
     },
     "metadata": {},
     "output_type": "display_data"
    }
   ],
   "source": [
    "model_4 = IV2SLS(sample[['earningsm']], sm.add_constant(sample['morekids']),  sm.add_constant(sample['samesex'])).fit()\n",
    "model_5 = IV2SLS(sample[['earningsd']], sm.add_constant(sample['morekids']),  sm.add_constant(sample['samesex'])).fit()\n",
    "model_6 = IV2SLS(sample[['famearn']], sm.add_constant(sample['morekids']),  sm.add_constant(sample['samesex'])).fit()\n",
    "\n",
    "display(model_6.params[\"morekids\"],model_4.params[\"morekids\"] + model_5.params[\"morekids\"])\n"
   ]
  },
  {
   "cell_type": "markdown",
   "metadata": {},
   "source": [
    "5. With controls"
   ]
  },
  {
   "cell_type": "code",
   "execution_count": 11,
   "metadata": {},
   "outputs": [
    {
     "data": {
      "text/plain": [
       "-6694.435353964713"
      ]
     },
     "metadata": {},
     "output_type": "display_data"
    },
    {
     "data": {
      "text/plain": [
       "-6694.4353575998175"
      ]
     },
     "metadata": {},
     "output_type": "display_data"
    }
   ],
   "source": [
    "model_4c = IV2SLS(sample[['earningsm']], sm.add_constant(features_controls),  sm.add_constant(instrument_controls)).fit()\n",
    "model_5c = IV2SLS(sample[['earningsd']], sm.add_constant(features_controls),  sm.add_constant(instrument_controls)).fit()\n",
    "model_6c = IV2SLS(sample[['famearn']], sm.add_constant(features_controls),  sm.add_constant(instrument_controls)).fit()\n",
    "\n",
    "display(model_6c.params[\"morekids\"],model_4c.params[\"morekids\"] + model_5c.params[\"morekids\"])\n",
    "\n"
   ]
  },
  {
   "cell_type": "markdown",
   "metadata": {},
   "source": [
    "6. % Contribution in IV"
   ]
  },
  {
   "cell_type": "code",
   "execution_count": 12,
   "metadata": {},
   "outputs": [
    {
     "data": {
      "text/plain": [
       "46.272088748278385"
      ]
     },
     "execution_count": 12,
     "metadata": {},
     "output_type": "execute_result"
    }
   ],
   "source": [
    "#Mothers\n",
    "(morekids_effect[\"IV + Controls\"][0]/ morekids_effect[\"IV + Controls\"][2]) * 100"
   ]
  },
  {
   "cell_type": "code",
   "execution_count": 13,
   "metadata": {},
   "outputs": [
    {
     "data": {
      "text/plain": [
       "53.727911306022015"
      ]
     },
     "execution_count": 13,
     "metadata": {},
     "output_type": "execute_result"
    }
   ],
   "source": [
    "#Fathers\n",
    "(morekids_effect[\"IV + Controls\"][1]/ morekids_effect[\"IV + Controls\"][2]) * 100"
   ]
  },
  {
   "cell_type": "markdown",
   "metadata": {},
   "source": [
    "After running the IV above we see that the OLS provided some rather biased and extreme results in terms of % determination of the earnings when we look at the respective parent's share over the family earnings. Our IV regression shows that the effect on family income from the decision to have morekids is slightly more driven by the father's decision relative to the mothers. This supports the notion of a father being the \"bread-winner\" for the family. However, we also noted above that a mother is more likely to suffer a personal loss in income from the decision to have more kids. Reasons for this may because of stigma's against mother's returning to work versus taking care of the children. Pretty cool how social norms are reflected in our analysis!\n",
    "\n",
    "## Now let's look at the Always Takers, Never Takers, and Compliers within our sample. We are going to assume that there are no defier families.\n",
    "\n",
    "\n",
    "* Always Takers always have another child\n",
    "* Compliers are those who have more kids even after have two kids of the same sex\n",
    "* Never Takers are those who only had at most 2 children"
   ]
  },
  {
   "cell_type": "code",
   "execution_count": 14,
   "metadata": {},
   "outputs": [],
   "source": [
    "def results(df, treatment_column_name, measured_result):\n",
    "    control_n = df.groupby([treatment_column_name]).agg('count')['educm'][0]\n",
    "    treatment_n = df.groupby([treatment_column_name]).agg('count')['educm'][1]\n",
    "    \n",
    "    pr_AT = df.groupby([treatment_column_name, measured_result]).agg('count')['KIDCOUNT'][0][1] / control_n \n",
    "    pr_NT = 1 - df.groupby([treatment_column_name,measured_result]).agg('count')['KIDCOUNT'][1][1] / treatment_n\n",
    "    pr_C = df.groupby([treatment_column_name, measured_result]).agg('count')['KIDCOUNT'][1][1] / treatment_n - pr_AT\n",
    "    \n",
    "    total = np.sum([pr_AT, pr_NT, pr_C])\n",
    "    return [pr_AT, pr_NT, pr_C, total]"
   ]
  },
  {
   "cell_type": "code",
   "execution_count": 15,
   "metadata": {},
   "outputs": [
    {
     "data": {
      "text/html": [
       "<div>\n",
       "<style scoped>\n",
       "    .dataframe tbody tr th:only-of-type {\n",
       "        vertical-align: middle;\n",
       "    }\n",
       "\n",
       "    .dataframe tbody tr th {\n",
       "        vertical-align: top;\n",
       "    }\n",
       "\n",
       "    .dataframe thead th {\n",
       "        text-align: right;\n",
       "    }\n",
       "</style>\n",
       "<table border=\"1\" class=\"dataframe\">\n",
       "  <thead>\n",
       "    <tr style=\"text-align: right;\">\n",
       "      <th></th>\n",
       "      <th>sample</th>\n",
       "      <th>Less than HS Educ</th>\n",
       "      <th>HS Educ</th>\n",
       "      <th>Some College</th>\n",
       "      <th>Bachelors</th>\n",
       "    </tr>\n",
       "  </thead>\n",
       "  <tbody>\n",
       "    <tr>\n",
       "      <th>AT</th>\n",
       "      <td>0.339069</td>\n",
       "      <td>NaN</td>\n",
       "      <td>NaN</td>\n",
       "      <td>NaN</td>\n",
       "      <td>NaN</td>\n",
       "    </tr>\n",
       "    <tr>\n",
       "      <th>NT</th>\n",
       "      <td>0.593579</td>\n",
       "      <td>NaN</td>\n",
       "      <td>NaN</td>\n",
       "      <td>NaN</td>\n",
       "      <td>NaN</td>\n",
       "    </tr>\n",
       "    <tr>\n",
       "      <th>Compliers</th>\n",
       "      <td>0.067352</td>\n",
       "      <td>NaN</td>\n",
       "      <td>NaN</td>\n",
       "      <td>NaN</td>\n",
       "      <td>NaN</td>\n",
       "    </tr>\n",
       "    <tr>\n",
       "      <th>Sum</th>\n",
       "      <td>1.000000</td>\n",
       "      <td>NaN</td>\n",
       "      <td>NaN</td>\n",
       "      <td>NaN</td>\n",
       "      <td>NaN</td>\n",
       "    </tr>\n",
       "  </tbody>\n",
       "</table>\n",
       "</div>"
      ],
      "text/plain": [
       "             sample Less than HS Educ HS Educ Some College Bachelors\n",
       "AT         0.339069               NaN     NaN          NaN       NaN\n",
       "NT         0.593579               NaN     NaN          NaN       NaN\n",
       "Compliers  0.067352               NaN     NaN          NaN       NaN\n",
       "Sum        1.000000               NaN     NaN          NaN       NaN"
      ]
     },
     "execution_count": 15,
     "metadata": {},
     "output_type": "execute_result"
    }
   ],
   "source": [
    "\n",
    "table = pd.DataFrame(index = [\"AT\", \"NT\", \"Compliers\", \"Sum\"], \n",
    "                     columns = [\"sample\", \"Less than HS Educ\", \"HS Educ\",\n",
    "                               \"Some College\", \"Bachelors\"])\n",
    "table[\"sample\"] = results(sample, \"samesex\", \"morekids\")\n",
    "table"
   ]
  },
  {
   "cell_type": "code",
   "execution_count": 16,
   "metadata": {},
   "outputs": [],
   "source": [
    "less_hs = sample[sample['educm'] < 12]\n",
    "hs = sample[sample['educm'] == 12]\n",
    "some_college = sample[(sample['educm'] > 12) & (sample['educm'] <= 15)]\n",
    "bachelor = sample[sample['educm'] == 12]"
   ]
  },
  {
   "cell_type": "code",
   "execution_count": 17,
   "metadata": {},
   "outputs": [
    {
     "data": {
      "text/html": [
       "<div>\n",
       "<style scoped>\n",
       "    .dataframe tbody tr th:only-of-type {\n",
       "        vertical-align: middle;\n",
       "    }\n",
       "\n",
       "    .dataframe tbody tr th {\n",
       "        vertical-align: top;\n",
       "    }\n",
       "\n",
       "    .dataframe thead th {\n",
       "        text-align: right;\n",
       "    }\n",
       "</style>\n",
       "<table border=\"1\" class=\"dataframe\">\n",
       "  <thead>\n",
       "    <tr style=\"text-align: right;\">\n",
       "      <th></th>\n",
       "      <th>sample</th>\n",
       "      <th>Less than HS Educ</th>\n",
       "      <th>HS Educ</th>\n",
       "      <th>Some College</th>\n",
       "      <th>Bachelors</th>\n",
       "    </tr>\n",
       "  </thead>\n",
       "  <tbody>\n",
       "    <tr>\n",
       "      <th>AT</th>\n",
       "      <td>0.339069</td>\n",
       "      <td>0.468634</td>\n",
       "      <td>0.325621</td>\n",
       "      <td>0.309460</td>\n",
       "      <td>0.325621</td>\n",
       "    </tr>\n",
       "    <tr>\n",
       "      <th>NT</th>\n",
       "      <td>0.593579</td>\n",
       "      <td>0.459558</td>\n",
       "      <td>0.602934</td>\n",
       "      <td>0.619832</td>\n",
       "      <td>0.602934</td>\n",
       "    </tr>\n",
       "    <tr>\n",
       "      <th>Compliers</th>\n",
       "      <td>0.067352</td>\n",
       "      <td>0.071808</td>\n",
       "      <td>0.071445</td>\n",
       "      <td>0.070708</td>\n",
       "      <td>0.071445</td>\n",
       "    </tr>\n",
       "    <tr>\n",
       "      <th>Sum</th>\n",
       "      <td>1.000000</td>\n",
       "      <td>1.000000</td>\n",
       "      <td>1.000000</td>\n",
       "      <td>1.000000</td>\n",
       "      <td>1.000000</td>\n",
       "    </tr>\n",
       "  </tbody>\n",
       "</table>\n",
       "</div>"
      ],
      "text/plain": [
       "             sample  Less than HS Educ   HS Educ  Some College  Bachelors\n",
       "AT         0.339069           0.468634  0.325621      0.309460   0.325621\n",
       "NT         0.593579           0.459558  0.602934      0.619832   0.602934\n",
       "Compliers  0.067352           0.071808  0.071445      0.070708   0.071445\n",
       "Sum        1.000000           1.000000  1.000000      1.000000   1.000000"
      ]
     },
     "execution_count": 17,
     "metadata": {},
     "output_type": "execute_result"
    }
   ],
   "source": [
    "table[\"sample\"] = results(sample, \"samesex\", \"morekids\")\n",
    "table[\"Less than HS Educ\"] = results(less_hs, \"samesex\", \"morekids\")\n",
    "table[\"HS Educ\"] = results(hs, \"samesex\", \"morekids\")\n",
    "table[\"Some College\"] = results(some_college, \"samesex\", \"morekids\")\n",
    "table[\"Bachelors\"] = results(bachelor, \"samesex\", \"morekids\")\n",
    "\n",
    "table"
   ]
  },
  {
   "cell_type": "markdown",
   "metadata": {},
   "source": [
    "Let's visualize these tables by scaling the y-axis to be the probability scale and then looking at fractions by  education level and by what type of individual (AT,NT,Compliers) they were."
   ]
  },
  {
   "cell_type": "code",
   "execution_count": 33,
   "metadata": {},
   "outputs": [
    {
     "data": {
      "text/plain": [
       "(0, 1)"
      ]
     },
     "execution_count": 33,
     "metadata": {},
     "output_type": "execute_result"
    },
    {
     "data": {
      "image/png": "[encoded data removed]",
      "text/plain": [
       "<Figure size 432x288 with 1 Axes>"
      ]
     },
     "metadata": {
      "needs_background": "light"
     },
     "output_type": "display_data"
    }
   ],
   "source": [
    "sns.barplot(data = table.T, y = ('AT'), x = table.T.index)\n",
    "plt.title('Fraction of mothers who had another child after having two of the same sex')\n",
    "plt.xlabel('Type of Individual')\n",
    "plt.ylim(0,1);"
   ]
  },
  {
   "cell_type": "code",
   "execution_count": 34,
   "metadata": {},
   "outputs": [
    {
     "data": {
      "image/png": "[encoded data removed]",
      "text/plain": [
       "<Figure size 432x288 with 1 Axes>"
      ]
     },
     "metadata": {
      "needs_background": "light"
     },
     "output_type": "display_data"
    }
   ],
   "source": [
    "sns.barplot(data = table.T, y = ('NT'), x = table.T.index)\n",
    "plt.title('Fraction of mothers who only had two kids regardless of sex composition')\n",
    "plt.xlabel('Type of Individual')\n",
    "plt.ylim(0,1);"
   ]
  },
  {
   "cell_type": "code",
   "execution_count": 64,
   "metadata": {},
   "outputs": [
    {
     "data": {
      "image/png": "[encoded data removed]",
      "text/plain": [
       "<Figure size 432x288 with 1 Axes>"
      ]
     },
     "metadata": {
      "needs_background": "light"
     },
     "output_type": "display_data"
    }
   ],
   "source": [
    "sns.barplot(data = table.T, y = ('Compliers'), x = table.T.index)\n",
    "plt.title('Mothers who had 3+ kids only if they had 2 same sex kids (but not otherwise)')\n",
    "plt.xlabel('Type of Individual')\n",
    "plt.ylim(0,1);"
   ]
  },
  {
   "cell_type": "markdown",
   "metadata": {},
   "source": [
    "The Always Takers, moms who \"went for one more child\" seem to be those that were less educated. This is a good reason to investigate the racial composition of that subgroup because perhaps international culture may urge parents to have both female and male children, especially in the case of a male heir.\n",
    "\n",
    "Never takers seems to be more common for those who are higher educated as the bars in the second graph are higher than that in the first.\n",
    "\n",
    "The compliers groups seems to be very small and not have much variation across education. Let's look at the differences between the compliers a bit further. We can begin observing that a complier in this case would be a \n",
    "* parent who has had 3+ kids, where they did have two kids with the same sex but the first baby's gender was not indicative of the following 2\n",
    "\n",
    "* Ex: Aunt Sally had 1 boy, then 1 girl (boy1st == 1, girls2 = 0), then had a child that chose their gender regardless of their sex."
   ]
  },
  {
   "cell_type": "code",
   "execution_count": 108,
   "metadata": {},
   "outputs": [],
   "source": [
    "compliers = sample[(sample['morekids'] == 1) \n",
    "                   & (sample['samesex'] == 1) \n",
    "                   & (sample['girls2'] == 0) \n",
    "                   & (sample['boy1st'] == 1)]\n",
    "\n",
    "n = len(compliers)\n",
    "\n",
    "less_hs_compliers = len(compliers[compliers['educm'] < 12])/n\n",
    "black_compliers = len(compliers[compliers['blackm'] == 1])/n\n",
    "white_nh_compliers = len(compliers[compliers['wnhm'] == 1])/n\n",
    "hispanic_compliers = len(compliers[compliers['hispm'] == 1])/n\n",
    "utah_compliers = len(compliers[compliers['st'] == 87])/n\n",
    "\n",
    "race_stats = [less_hs_compliers,\n",
    "black_compliers,\n",
    "white_nh_compliers,\n",
    "hispanic_compliers,\n",
    "utah_compliers]\n",
    "\n",
    "\n",
    "mean_stats= [np.mean(compliers['educm']), np.mean(compliers['agem']), np.mean(compliers['agefstm'])]\n",
    "\n",
    "complier_race = pd.DataFrame(index = [\"Fraction of Under HS Educ\",\n",
    "                                        \"Fraction of Black Compliers\",\n",
    "                                        \"Fraction of White Non Hispanic Compliers\",\n",
    "                                        \"Fraction of Hispanic\",\n",
    "                                        \"Fraction of Compliers in Utah\"],\n",
    "                             columns = ['Value'])\n",
    "                             \n",
    "                             \n",
    "complier_mean = pd.DataFrame(index = [\"Mean Educ of Mother Compliers\",\n",
    "                                        \"Mean Age of Mother Compliers\",\n",
    "                                        \"Mean Age of First Time Mother Compliers\"],\n",
    "                               columns = ['Value'])\n",
    "\n",
    "complier_race['Value'] = race_stats\n",
    "\n",
    "\n",
    "complier_mean['Value'] = mean_stats\n"
   ]
  },
  {
   "cell_type": "code",
   "execution_count": 126,
   "metadata": {},
   "outputs": [
    {
     "data": {
      "text/html": [
       "<div>\n",
       "<style scoped>\n",
       "    .dataframe tbody tr th:only-of-type {\n",
       "        vertical-align: middle;\n",
       "    }\n",
       "\n",
       "    .dataframe tbody tr th {\n",
       "        vertical-align: top;\n",
       "    }\n",
       "\n",
       "    .dataframe thead th {\n",
       "        text-align: right;\n",
       "    }\n",
       "</style>\n",
       "<table border=\"1\" class=\"dataframe\">\n",
       "  <thead>\n",
       "    <tr style=\"text-align: right;\">\n",
       "      <th></th>\n",
       "      <th>Value</th>\n",
       "    </tr>\n",
       "  </thead>\n",
       "  <tbody>\n",
       "    <tr>\n",
       "      <th>Fraction of Under HS Educ</th>\n",
       "      <td>0.225357</td>\n",
       "    </tr>\n",
       "    <tr>\n",
       "      <th>Fraction of Black Compliers</th>\n",
       "      <td>0.057910</td>\n",
       "    </tr>\n",
       "    <tr>\n",
       "      <th>Fraction of White Non Hispanic Compliers</th>\n",
       "      <td>0.879537</td>\n",
       "    </tr>\n",
       "    <tr>\n",
       "      <th>Fraction of Hispanic</th>\n",
       "      <td>0.035178</td>\n",
       "    </tr>\n",
       "    <tr>\n",
       "      <th>Fraction of Compliers in Utah</th>\n",
       "      <td>0.018330</td>\n",
       "    </tr>\n",
       "  </tbody>\n",
       "</table>\n",
       "</div>"
      ],
      "text/plain": [
       "                                             Value\n",
       "Fraction of Under HS Educ                 0.225357\n",
       "Fraction of Black Compliers               0.057910\n",
       "Fraction of White Non Hispanic Compliers  0.879537\n",
       "Fraction of Hispanic                      0.035178\n",
       "Fraction of Compliers in Utah             0.018330"
      ]
     },
     "execution_count": 126,
     "metadata": {},
     "output_type": "execute_result"
    }
   ],
   "source": [
    "complier_race"
   ]
  },
  {
   "cell_type": "code",
   "execution_count": 127,
   "metadata": {},
   "outputs": [
    {
     "data": {
      "text/html": [
       "<div>\n",
       "<style scoped>\n",
       "    .dataframe tbody tr th:only-of-type {\n",
       "        vertical-align: middle;\n",
       "    }\n",
       "\n",
       "    .dataframe tbody tr th {\n",
       "        vertical-align: top;\n",
       "    }\n",
       "\n",
       "    .dataframe thead th {\n",
       "        text-align: right;\n",
       "    }\n",
       "</style>\n",
       "<table border=\"1\" class=\"dataframe\">\n",
       "  <thead>\n",
       "    <tr style=\"text-align: right;\">\n",
       "      <th></th>\n",
       "      <th>Value</th>\n",
       "    </tr>\n",
       "  </thead>\n",
       "  <tbody>\n",
       "    <tr>\n",
       "      <th>Mean Educ of Mother Compliers</th>\n",
       "      <td>12.044823</td>\n",
       "    </tr>\n",
       "    <tr>\n",
       "      <th>Mean Age of Mother Compliers</th>\n",
       "      <td>30.808020</td>\n",
       "    </tr>\n",
       "    <tr>\n",
       "      <th>Mean Age of First Time Mother Compliers</th>\n",
       "      <td>20.211030</td>\n",
       "    </tr>\n",
       "  </tbody>\n",
       "</table>\n",
       "</div>"
      ],
      "text/plain": [
       "                                             Value\n",
       "Mean Educ of Mother Compliers            12.044823\n",
       "Mean Age of Mother Compliers             30.808020\n",
       "Mean Age of First Time Mother Compliers  20.211030"
      ]
     },
     "execution_count": 127,
     "metadata": {},
     "output_type": "execute_result"
    }
   ],
   "source": [
    "complier_mean"
   ]
  },
  {
   "cell_type": "code",
   "execution_count": 125,
   "metadata": {},
   "outputs": [
    {
     "data": {
      "image/png": "[encoded data removed]",
      "text/plain": [
       "<Figure size 1080x720 with 1 Axes>"
      ]
     },
     "metadata": {
      "needs_background": "light"
     },
     "output_type": "display_data"
    }
   ],
   "source": [
    "plt.figure(figsize=(15,10))\n",
    "chart = sns.barplot(data = complier_race, y = ('Value'), x = complier_race.index)\n",
    "plt.title('Race summary of compliers')\n",
    "plt.xlabel('Type of Individual')\n",
    "#chart.set_xticklabels(chart.get_xticklabels(), rotation=25)\n",
    "plt.ylabel('Fraction')\n",
    "plt.ylim(0,1);"
   ]
  },
  {
   "cell_type": "code",
   "execution_count": 118,
   "metadata": {},
   "outputs": [
    {
     "data": {
      "image/png": "[encoded data removed]",
      "text/plain": [
       "<Figure size 720x720 with 1 Axes>"
      ]
     },
     "metadata": {
      "needs_background": "light"
     },
     "output_type": "display_data"
    }
   ],
   "source": [
    "plt.figure(figsize=(10,10))\n",
    "chart = sns.barplot(data = complier_mean, y = ('Value'), x = complier_mean.index)\n",
    "plt.title('Summary Stats of Compliers')\n",
    "plt.xlabel('Type of Individual');"
   ]
  },
  {
   "cell_type": "markdown",
   "metadata": {},
   "source": [
    "From this we can see that compliers are on average identifying as white, non-hispanic mothers who are in their early thirties, and about a high school level of education. In order to be a complier, mothers have to have 3 kids hence it makes sense that most of them are first time mothers on average by 20. \n",
    "\n",
    "The Utah statistic is quite interesting. Utah is historically Mormon, which is a religion statistically tied to having more children, is influencing the young, complier mother category we are discovering."
   ]
  },
  {
   "cell_type": "code",
   "execution_count": null,
   "metadata": {},
   "outputs": [],
   "source": []
  }
 ],
 "metadata": {
  "kernelspec": {
   "display_name": "Python 3",
   "language": "python",
   "name": "python3"
  },
  "language_info": {
   "codemirror_mode": {
    "name": "ipython",
    "version": 3
   },
   "file_extension": ".py",
   "mimetype": "text/x-python",
   "name": "python",
   "nbconvert_exporter": "python",
   "pygments_lexer": "ipython3",
   "version": "3.7.3"
  }
 },
 "nbformat": 4,
 "nbformat_minor": 2
}
